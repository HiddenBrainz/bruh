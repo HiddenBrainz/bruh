{
 "cells": [
  {
   "cell_type": "code",
   "execution_count": null,
   "id": "3a8c9bfa",
   "metadata": {},
   "outputs": [],
   "source": [
    "import micropip"
   ]
  }
 ],
 "metadata": {},
 "nbformat": 4,
 "nbformat_minor": 5
}
